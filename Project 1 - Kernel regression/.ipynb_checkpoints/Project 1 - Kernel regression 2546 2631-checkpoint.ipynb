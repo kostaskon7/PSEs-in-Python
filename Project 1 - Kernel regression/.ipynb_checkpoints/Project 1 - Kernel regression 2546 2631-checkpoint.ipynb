{
 "cells": [
  {
   "cell_type": "markdown",
   "metadata": {},
   "source": [
    "# Project 1 - Kernel Regression\n",
    "\n",
    "Stavrinos Nikolaos 2631\n",
    "\n",
    "\n",
    "Konstantinidis Konstantinos 2546 \n",
    "\n",
    "Kernel regression is an estimation technique to fit your data. Given a data set $X=(x_i,y_i)$ , you want to find a regression function $f(X)$ such that that function is best-fit match to your data at those data points. \n",
    "\n",
    "Different from linear regression or polynomial regression, kernel regression does not assume any underlying distribution to estimate the regression function. That is why kernel regression is categorized as non-parametric technique.\n",
    "\n",
    "The idea of kernel regression is putting a set of identical weighted function called Kernel local to each observational data point. The kernel will assign weight to each location based on distance from the data point. The kernel basis function depend only to the radius or width (or variance) from the 'local' data point X to a set of neighboring locations x. Kernel regression is a superset of local weighted regression and closely related to **Moving  Average** and **K nearest neighbor** , **radial basis function (RBF)**, **Neural Network** and **Support Vector Machine (SVM)** to be addressed later on in the cource.\n"
   ]
  },
  {
   "cell_type": "markdown",
   "metadata": {},
   "source": [
    "## Kernel Functions\n",
    "\n",
    "In Kernel regression, what you do is to put a kernel (a kind of bump function) to each point of your X data. We say that the kernel\n",
    "provides a basis function to the regression line. Figure below shows how a kernel of one data\n",
    "point is applied to give weights to the other data points inside the window. Data points outside\n",
    "the window will not be affected by the kernel.\n",
    "\n",
    "![kernel1](Kernel_clip_image002_1.gif)\n",
    "\n",
    "The kernel basis function can be any type of function satisfying the following criteria\n",
    "1. Kernel value is non-negative (can be zero)\n",
    "2. The maximum value is at the original data point.\n",
    "3. Farther away from the maximum value the kernel value is monotonically decreasing\n",
    "4. In general it is radial symmetric function"
   ]
  },
  {
   "cell_type": "markdown",
   "metadata": {},
   "source": [
    "# Kernel regression - Formal Definition\n",
    "\n",
    "\n",
    "**Kernel regression** is a non-parametric method for regression. The regression models solve the following  problem: \n",
    "\n",
    "Given  a dataset:\n",
    "$$(x_i,y_i), i=1, \\dots, N$$\n",
    "Use a model \n",
    "$$ y_i=r(x_i)+\\epsilon_i, \\forall,i=1,\\dots,n$$ \n",
    "\n",
    "where $r$ is a function.\n",
    "\n",
    "\\begin{itemize}\n",
    "\\item If $r$ is a linear function of $x_i$, then the model is a linear regression model without or with regularization term in the loss function.\n",
    "\\item If r is nonlinear function. It becomes a nonlinear regression model.\n",
    "\\item If r has no functional form, instead, a weight is given to a each data point, we have a nonparameteric regression model, or kernel regression model. \n",
    "\\end{itemize}\n",
    "\n",
    "In the nonparameteric regression model, or kernel regression model the r function is defined as \n",
    "\n",
    "$$r(x)=\\sum_{i=1}^{n} w\\left(x, x_{i}\\right) \\cdot y_{i}$$\n",
    "\n",
    "To obtain the weights  $w(x,x_i)$ we use a function K, called kernel,  to map discrete samples (data) to continuous space. There are lots of choices for the kernel. Some common choices are box, Gaussian and Epanechnikov kernel defined as follows:\n",
    "\n",
    "the box kernel is:\n",
    "$$\n",
    "K(x)=\\left\\{\\begin{array}{ll}{1 / 2} & {\\text { if }|x| \\leq 1} \\\\ {0} & {\\text { otherwise }}\\end{array}\\right.\n",
    "$$\n",
    "\n",
    "the Gaussian kernel is:\n",
    "\n",
    "$$\n",
    "K(x)=\\frac{1}{\\sqrt{2 \\pi}} \\exp \\left(-x^{2} / 2\\right)\n",
    "$$\n",
    "and the Epanechnikov kernel is:\n",
    "\n",
    "$$\n",
    "K(x)=\\left\\{\\begin{array}{ll}{3 / 4\\left(1-x^{2}\\right)} & {\\text { if }|x| \\leq 1} \\\\ {0} & {\\text { else }}\\end{array}\\right.\n",
    "$$\n",
    "\n",
    "Given a choice of kernel K, and a bandwidth h, we define the weights as follows:\n",
    "\n",
    "$$\n",
    "w\\left(x, x_{i}\\right)=\\frac{K\\left(\\frac{x_{i}-x}{h}\\right)}{\\sum_{j=1}^{n} K\\left(\\frac{x_{j}-x}{h}\\right)}\n",
    "$$\n",
    "\n",
    "and the fitted value for any $x_k$ is: \n",
    "$$\n",
    "y_{k}=\\sum_{i} w\\left(x_{k}, x_{i}\\right) y_{i}\n",
    "$$\n",
    "\n",
    "that leads to a kernel regression method."
   ]
  },
  {
   "cell_type": "markdown",
   "metadata": {},
   "source": [
    "## Example of kernel regression in R\n",
    "\n",
    "The Nadaraya–Watson estimate is  a weighted average of $Y_1,\\dots,Y_n$ by means of the set of weights $\\left\\{W_{i}(x)\\right\\}_{i=1}^{n}$ (they add to one). The set of varying weights depends on the evaluation point x. That means that the Nadaraya–Watson estimator is a local mean of $Y_{1}, \\ldots, Y_{n}$ around $X=x$.\n",
    "\n",
    "Reference: https://bookdown.org/egarpor/PM-UC3M/npreg-kre.html"
   ]
  },
  {
   "cell_type": "code",
   "execution_count": 1,
   "metadata": {},
   "outputs": [
    {
     "ename": "SyntaxError",
     "evalue": "invalid syntax (<ipython-input-1-b786631d5925>, line 2)",
     "output_type": "error",
     "traceback": [
      "\u001b[1;36m  File \u001b[1;32m\"<ipython-input-1-b786631d5925>\"\u001b[1;36m, line \u001b[1;32m2\u001b[0m\n\u001b[1;33m    nw <- function(x, X, Y, h, K = dnorm) {\u001b[0m\n\u001b[1;37m                                          ^\u001b[0m\n\u001b[1;31mSyntaxError\u001b[0m\u001b[1;31m:\u001b[0m invalid syntax\n"
     ]
    }
   ],
   "source": [
    "# A naive implementation of the Nadaraya-Watson estimator\n",
    "nw <- function(x, X, Y, h, K = dnorm) {\n",
    "\n",
    "  # Arguments\n",
    "  # x: evaluation points\n",
    "  # X: vector (size n) with the predictors\n",
    "  # Y: vector (size n) with the response variable\n",
    "  # h: bandwidth\n",
    "  # K: kernel\n",
    "\n",
    "  # Matrix of size n x length(x) (rbind() is called for ensuring a matrix\n",
    "  # output if x is a scalar)\n",
    "  Kx <- rbind(sapply(X, function(Xi) K((x - Xi) / h) / h))\n",
    "\n",
    "  # Weights\n",
    "  W <- Kx / rowSums(Kx) # Column recycling!\n",
    "\n",
    "  # Means at x (\"drop\" to drop the matrix attributes)\n",
    "  drop(W %*% Y)\n",
    "\n",
    "}\n",
    "\n",
    "# Generate some data to test the implementation\n",
    "set.seed(12345)\n",
    "n <- 100\n",
    "eps <- rnorm(n, sd = 2)\n",
    "m <- function(x) x^2 * cos(x)\n",
    "# m <- function(x) x - x^2 # Other possible regression function, works\n",
    "# equally well\n",
    "X <- rnorm(n, sd = 2)\n",
    "Y <- m(X) + eps\n",
    "x_grid <- seq(-10, 10, l = 500)\n",
    "\n",
    "# Bandwidth\n",
    "h <- 0.5\n",
    "\n",
    "# Plot data\n",
    "plot(X, Y)\n",
    "rug(X, side = 1); rug(Y, side = 2)\n",
    "lines(x_grid, m(x_grid), col = 1)\n",
    "lines(x_grid, nw(x = x_grid, X = X, Y = Y, h = h), col = 2)\n",
    "legend(\"top\", legend = c(\"True regression\", \"Nadaraya-Watson\"),\n",
    "       lwd = 2, col = 1:2)"
   ]
  },
  {
   "cell_type": "markdown",
   "metadata": {},
   "source": [
    "## Python fit function with kernels : box, gaussian, Epanechnikov"
   ]
  },
  {
   "cell_type": "markdown",
   "metadata": {},
   "source": []
  },
  {
   "cell_type": "code",
   "execution_count": 1,
   "metadata": {},
   "outputs": [],
   "source": [
    "import numpy as np\n",
    "from math import exp,sqrt,pi\n",
    "\n",
    "def fit(test_X, train_X, train_y, bandwidth=1.0, kn='box'):\n",
    "    kernels = {\n",
    "        'box': lambda x: 1/2 if (x<=1 and x>=-1) else 0,\n",
    "        'gs': lambda x: 1/sqrt(2*pi)*exp(-x**2/2),\n",
    "        'ep': lambda x: 3/4*(1-x**2) if (x<=1 and x>=-1) else 0\n",
    "    }\n",
    "    predict_y = []\n",
    "    for entry in test_X:\n",
    "        nks = [np.sum((j-entry)**2)/bandwidth for j in train_X]\n",
    "        ks = [kernels[kn](i) for i in nks]\n",
    "        dividend = sum([ks[i]*train_y[i] for i in range(len(ks))])\n",
    "        divisor = sum(ks)\n",
    "        if(divisor==0):\n",
    "            predict=float(\"NaN\")\n",
    "        else:\n",
    "            predict = dividend/divisor\n",
    "            \n",
    "        predict_y.append(predict)\n",
    "        # print(entry)\n",
    "    return np.array(predict_y)[:,np.newaxis]\n"
   ]
  },
  {
   "cell_type": "code",
   "execution_count": 2,
   "metadata": {},
   "outputs": [],
   "source": [
    "import numpy as np\n",
    "import matplotlib.pyplot as plt\n",
    "import sklearn\n",
    "import pandas as pd\n",
    "from sklearn.metrics import mean_squared_error\n",
    "from sklearn.model_selection import train_test_split\n",
    "%matplotlib inline\n",
    "plt.style.use('ggplot')"
   ]
  },
  {
   "cell_type": "markdown",
   "metadata": {},
   "source": [
    "\\begin{exercise}\n",
    "Apply the kernel regression with the above kernels in the following dataset\n",
    "\n",
    "\\end{exercise}\n"
   ]
  },
  {
   "cell_type": "code",
   "execution_count": 3,
   "metadata": {},
   "outputs": [
    {
     "data": {
      "text/plain": [
       "[<matplotlib.lines.Line2D at 0x1ac19554ca0>]"
      ]
     },
     "execution_count": 3,
     "metadata": {},
     "output_type": "execute_result"
    },
    {
     "data": {
      "image/png": "[encoded data removed]",
      "text/plain": [
       "<Figure size 432x288 with 1 Axes>"
      ]
     },
     "metadata": {},
     "output_type": "display_data"
    }
   ],
   "source": [
    "data = pd.read_csv('df.csv')\n",
    "data.head()\n",
    "x_data= data.x\n",
    "y_data= data.y\n",
    "m_data = data.m\n",
    "plt.plot(x_data,y_data)"
   ]
  },
  {
   "cell_type": "code",
   "execution_count": 4,
   "metadata": {},
   "outputs": [
    {
     "name": "stdout",
     "output_type": "stream",
     "text": [
      "0.3032159544288016\n",
      "0.30517253428078145\n",
      "0.30858367352771826\n"
     ]
    }
   ],
   "source": [
    "X_train, X_test, y_train, y_test = train_test_split(\n",
    "             x_data, y_data, test_size=0.33)\n",
    "\n",
    "\n",
    "\n",
    "\n",
    "box=fit(X_test.tolist(), X_train.tolist(), y_train.tolist(), kn=\"box\")\n",
    "print(mean_squared_error(box,y_test))\n",
    "\n",
    "\n",
    "\n",
    "gs=fit(X_test.tolist(), X_train.tolist(), y_train.tolist(), kn='gs')\n",
    "print(mean_squared_error(gs,y_test))\n",
    "\n",
    "\n",
    "\n",
    "ep=fit(X_test.tolist(), X_train.tolist(), y_train.tolist(), kn='ep')\n",
    "print(mean_squared_error(ep,y_test))\n",
    "\n"
   ]
  },
  {
   "cell_type": "markdown",
   "metadata": {},
   "source": [
    "\\begin{exercise}\n",
    "Apply the above kernel regression methods on the dataset `data_ch5.csv`\n",
    "\n",
    "\n",
    "\\end{exercise}\n"
   ]
  },
  {
   "cell_type": "code",
   "execution_count": 5,
   "metadata": {},
   "outputs": [
    {
     "name": "stdout",
     "output_type": "stream",
     "text": [
      "0    1.0\n",
      "1    2.0\n",
      "2    3.0\n",
      "3    4.0\n",
      "4    5.0\n",
      "Name: x, dtype: float64 0     2.9\n",
      "1    11.3\n",
      "2    10.6\n",
      "3    11.2\n",
      "4    10.9\n",
      "Name: y, dtype: float64\n"
     ]
    },
    {
     "data": {
      "text/plain": [
       "[<matplotlib.lines.Line2D at 0x1ac1965b4c0>]"
      ]
     },
     "execution_count": 5,
     "metadata": {},
     "output_type": "execute_result"
    },
    {
     "data": {
      "image/png": "[encoded data removed]",
      "text/plain": [
       "<Figure size 432x288 with 1 Axes>"
      ]
     },
     "metadata": {},
     "output_type": "display_data"
    }
   ],
   "source": [
    "data = pd.read_csv('data_ch5.csv')\n",
    "data.head()\n",
    "x_data= data.x\n",
    "y_data= data.y\n",
    "print(x_data.head(), y_data.head(),)\n",
    "plt.plot(x_data,y_data)"
   ]
  },
  {
   "cell_type": "code",
   "execution_count": 6,
   "metadata": {},
   "outputs": [
    {
     "name": "stdout",
     "output_type": "stream",
     "text": [
      "7.830226109033741\n",
      "6.341195623231698\n",
      "124.045\n"
     ]
    }
   ],
   "source": [
    "import numpy.ma as ma\n",
    "\n",
    "X_train, X_test, y_train, y_test = train_test_split(\n",
    "             x_data, y_data, test_size=0.33)\n",
    "\n",
    "\n",
    "\n",
    "\n",
    "box=fit(X_test.tolist(), X_train.tolist(), y_train.tolist(), kn=\"box\")\n",
    "box=np.where(np.isnan(box), ma.array(box, mask=np.isnan(box)).mean(axis=0), box) \n",
    "print(mean_squared_error(np.nan_to_num(box),y_test))\n",
    "\n",
    "\n",
    "\n",
    "\n",
    "gs=fit(X_test.tolist(), X_train.tolist(), y_train.tolist(), kn='gs')\n",
    "gs=np.where(np.isnan(gs), ma.array(gs, mask=np.isnan(gs)).mean(axis=0), gs)\n",
    "print(mean_squared_error(gs,y_test))\n",
    "\n",
    "\n",
    "\n",
    "\n",
    "\n",
    "ep=fit(X_test.tolist(), X_train.tolist(), y_train.tolist(), kn='ep')\n",
    "ep=np.where(np.isnan(ep), ma.array(ep, mask=np.isnan(ep)).mean(axis=0), ep) \n",
    "print(mean_squared_error(ep,y_test))"
   ]
  },
  {
   "cell_type": "markdown",
   "metadata": {},
   "source": [
    "\\begin{exercise}\n",
    "Apply the dataset 2dExample.csv. Notice that the 2rd column contains the true values of the function\n",
    "\n",
    "Matlab code for loading the data\n",
    "\n",
    "        data = load(\"2dExample.csv\");\n",
    "        x = data(:, 1);\n",
    "        y_orig = data(:, 2);\n",
    "        y = data(:, 3);\n",
    "\\end{exercise}\n"
   ]
  },
  {
   "cell_type": "code",
   "execution_count": 7,
   "metadata": {},
   "outputs": [
    {
     "name": "stdout",
     "output_type": "stream",
     "text": [
      "0    0.100233\n",
      "1    0.200269\n",
      "2    0.299120\n",
      "3    0.395818\n",
      "4    0.489426\n",
      "Name: 1, dtype: float64 0   -0.189403\n",
      "1    0.303101\n",
      "2    0.434726\n",
      "3    0.699200\n",
      "4    0.761076\n",
      "Name: 2, dtype: float64\n"
     ]
    },
    {
     "data": {
      "text/plain": [
       "[<matplotlib.lines.Line2D at 0x1ac196d9400>]"
      ]
     },
     "execution_count": 7,
     "metadata": {},
     "output_type": "execute_result"
    },
    {
     "data": {
      "image/png": "[encoded data removed]",
      "text/plain": [
       "<Figure size 432x288 with 1 Axes>"
      ]
     },
     "metadata": {},
     "output_type": "display_data"
    }
   ],
   "source": [
    "data = pd.read_csv('2dExample.csv',header=None)\n",
    "data.head()\n",
    "x_data= data.iloc[:, 1]\n",
    "y_data= data.iloc[:, 2]\n",
    "print(x_data.head(), y_data.head(),)\n",
    "plt.plot(x_data,y_data)"
   ]
  },
  {
   "cell_type": "code",
   "execution_count": 8,
   "metadata": {},
   "outputs": [
    {
     "name": "stdout",
     "output_type": "stream",
     "text": [
      "0.11214535131128352\n",
      "0.11645613347028871\n",
      "0.08767549433855255\n"
     ]
    }
   ],
   "source": [
    "import numpy.ma as ma\n",
    "\n",
    "X_train, X_test, y_train, y_test = train_test_split(\n",
    "             x_data, y_data, test_size=0.33)\n",
    "\n",
    "\n",
    "box=fit(X_test.tolist(), X_train.tolist(), y_train.tolist(), kn=\"box\")\n",
    "\n",
    "box=np.where(np.isnan(box), ma.array(box, mask=np.isnan(box)).mean(axis=0), box) \n",
    "print(mean_squared_error(np.nan_to_num(box),y_test))\n",
    "\n",
    "\n",
    "\n",
    "gs=fit(X_test.tolist(), X_train.tolist(), y_train.tolist(), kn='gs')\n",
    "gs=np.where(np.isnan(gs), ma.array(gs, mask=np.isnan(gs)).mean(axis=0), gs)\n",
    "print(mean_squared_error(gs,y_test))\n",
    "\n",
    "\n",
    "\n",
    "ep=fit(X_test.tolist(), X_train.tolist(), y_train.tolist(), kn='ep')\n",
    "ep=np.where(np.isnan(ep), ma.array(ep, mask=np.isnan(ep)).mean(axis=0), ep) \n",
    "print(mean_squared_error(ep,y_test))"
   ]
  },
  {
   "cell_type": "markdown",
   "metadata": {},
   "source": [
    "\\begin{exercise}\n",
    "The following code generates a 3d dataset in matlab. Write a python script that performs Gaussian Kernel Regression on this\n",
    "dataset.\n",
    "\n",
    "\\end{exercise}\n"
   ]
  },
  {
   "cell_type": "code",
   "execution_count": 9,
   "metadata": {},
   "outputs": [
    {
     "ename": "SyntaxError",
     "evalue": "invalid syntax (<ipython-input-9-fef4b092a419>, line 16)",
     "output_type": "error",
     "traceback": [
      "\u001b[1;36m  File \u001b[1;32m\"<ipython-input-9-fef4b092a419>\"\u001b[1;36m, line \u001b[1;32m16\u001b[0m\n\u001b[1;33m    x = [-10:0.2:10];\u001b[0m\n\u001b[1;37m            ^\u001b[0m\n\u001b[1;31mSyntaxError\u001b[0m\u001b[1;31m:\u001b[0m invalid syntax\n"
     ]
    }
   ],
   "source": [
    "% ======== run3DExample ======== \n",
    "% This script  generates a three-dimensional dataset.\n",
    "\n",
    "\n",
    "% ==================================\n",
    "%       Generate the Sombrero\n",
    "% ==================================\n",
    "\n",
    "% Evaluate the sombrero from -10 to 10 in both dimensions.\n",
    "% Create a 2D grid of input points, then unwinding this into\n",
    "% a list of 2D coordinate pairs. There is probably a more elegant\n",
    "% method for arriving at this result; please leave a comment if you\n",
    "% know it :).\n",
    "\n",
    "% Define the range as a row vector.\n",
    "x = [-10:0.2:10];\n",
    "\n",
    "% Create a 2D grid holding the x1 values at every point for the grid.\n",
    "% Every *row* of this matrix will be identical.\n",
    "\n",
    "X1 = ones(length(x), length(x));\n",
    "for (i = 1 : length(x))\n",
    "    X1(i, :) = x;\n",
    "end\n",
    "\n",
    "% Create a 2D grid holding the x2 values at every point for the grid.\n",
    "% Every *column* of this matrix will be identical.\n",
    "\n",
    "X2 = ones(length(x), length(x));\n",
    "for (i = 1 : length(x))\n",
    "    X2(:, i) = x';\n",
    "end\n",
    "\n",
    "% Unwind the two grids into a single list of 2D coordinates.\n",
    "\n",
    "X = [X1(:) X2(:)];\n",
    "\n",
    "% Evaluate the sombrero function over every input coordinate.\n",
    "A = sqrt(X(:, 1).^2 + X(:, 2).^2);\n",
    "Z_orig = sin(A) ./ A;\n",
    "\n",
    "% The sombrero function evaluates to NaN at (0, 0), but the correct\n",
    "% value is 1.\n",
    "Z_orig(isnan(Z_orig)) = 1;\n",
    "\n",
    "% Plot the sombrero function using the 'surf' function.\n",
    "% In order to plot the Z values, we need to reshape the vector\n",
    "% back into a 2D matrix.\n",
    "figure(1);\n",
    "surf(x, x, reshape(Z_orig, length(x), length(x)));\n",
    "title('Original Function');\n",
    "axis([-10 10 -10 10 -.5 1.0]);\n",
    "\n",
    "% ==================================\n",
    "%       Add Random Noise\n",
    "% ==================================\n",
    "\n",
    "% Add random noise to the data.\n",
    "Z = Z_orig + (0.1 * randn(size(Z_orig)));\n",
    "\n",
    "% Plot the noisy sombrero using the 'surf' function.\n",
    "figure(2);\n",
    "surf(x, x, reshape(Z, length(x), length(x)));\n",
    "title('Noisy Data');\n",
    "axis([-10 10 -10 10 -.5 1.0]);\n",
    "\n"
   ]
  },
  {
   "cell_type": "code",
   "execution_count": 10,
   "metadata": {},
   "outputs": [
    {
     "data": {
      "text/plain": [
       "<mpl_toolkits.mplot3d.art3d.Poly3DCollection at 0x1ac19750e20>"
      ]
     },
     "execution_count": 10,
     "metadata": {},
     "output_type": "execute_result"
    },
    {
     "data": {
      "image/png": "[encoded data removed]",
      "text/plain": [
       "<Figure size 432x288 with 1 Axes>"
      ]
     },
     "metadata": {
      "needs_background": "light"
     },
     "output_type": "display_data"
    }
   ],
   "source": [
    "from mpl_toolkits import mplot3d\n",
    "%matplotlib inline\n",
    "import numpy as np\n",
    "import matplotlib.pyplot as plt\n",
    "\n",
    "x = np.linspace(-10,10,100) \n",
    "X,Y=np.meshgrid(x,x) \n",
    "Z=np.sin(np.sqrt(X**2+Y**2))\n",
    "\n",
    "\n",
    "fig = plt.figure()\n",
    "ax = plt.axes(projection='3d')\n",
    "\n",
    "ax.plot_surface(X, Y, Z)"
   ]
  },
  {
   "cell_type": "code",
   "execution_count": 11,
   "metadata": {},
   "outputs": [
    {
     "name": "stderr",
     "output_type": "stream",
     "text": [
      "C:\\Users\\Kostas\\anaconda3\\lib\\site-packages\\sklearn\\gaussian_process\\_gpr.py:504: ConvergenceWarning: lbfgs failed to converge (status=2):\n",
      "ABNORMAL_TERMINATION_IN_LNSRCH.\n",
      "\n",
      "Increase the number of iterations (max_iter) or scale the data as shown in:\n",
      "    https://scikit-learn.org/stable/modules/preprocessing.html\n",
      "  _check_optimize_result(\"lbfgs\", opt_res)\n"
     ]
    },
    {
     "name": "stdout",
     "output_type": "stream",
     "text": [
      "8.70983441408487e-05\n"
     ]
    }
   ],
   "source": [
    "import numpy as np\n",
    "from matplotlib import pyplot as plt\n",
    "\n",
    "from sklearn.gaussian_process import GaussianProcessRegressor\n",
    "from sklearn.gaussian_process.kernels import RBF, ConstantKernel as C\n",
    "\n",
    "np.random.seed(1)\n",
    "\n",
    "data = {'X': x,\n",
    "        'Y': x\n",
    "                }\n",
    "  \n",
    "# Convert the dictionary into DataFrame\n",
    "grid = pd.DataFrame(data)\n",
    "\n",
    "X_train, X_test, y_train, y_test = train_test_split(\n",
    "             grid, Z, test_size=0.33)\n",
    "\n",
    "# Instantiate a Gaussian Process model\n",
    "kernel = C(1.0, (1e-3, 1e3)) * RBF(10, (1e-2, 1e2))\n",
    "gp = GaussianProcessRegressor(kernel=kernel, n_restarts_optimizer=9)\n",
    "\n",
    "gp.fit(X_train, y_train)\n",
    "\n",
    "y_pred = gp.predict(X_test)\n",
    "\n",
    "print(mean_squared_error(y_pred,y_test))"
   ]
  },
  {
   "cell_type": "markdown",
   "metadata": {},
   "source": [
    "\\begin{exercise}\n",
    "From the attached document \"nonpar\" implement the  k-nearest-neighbors regression  and the local polynomial procedures and apply them to the above datasets. Summarize your observations in a latex document.\n",
    "\n",
    "\\end{exercise}\n"
   ]
  },
  {
   "cell_type": "code",
   "execution_count": 12,
   "metadata": {},
   "outputs": [
    {
     "name": "stdout",
     "output_type": "stream",
     "text": [
      "6.217394117647079e-05\n",
      "7.913303571428571\n",
      "0.05258886596197796\n"
     ]
    }
   ],
   "source": [
    "from sklearn.neighbors import KNeighborsRegressor\n",
    "\n",
    "filename = 'df.csv'\n",
    "dataset = pd.read_csv(filename)\n",
    "\n",
    "x_data= dataset.iloc[:, 0]\n",
    "y_data= dataset.iloc[:, 1]\n",
    "\n",
    "X_train, X_test, y_train, y_test = train_test_split(\n",
    "             x_data, y_data, test_size=0.33)\n",
    "\n",
    "\n",
    "neigh = KNeighborsRegressor(n_neighbors=2)\n",
    "neigh.fit(X_train.values.reshape(-1, 1),y_train)\n",
    "print(mean_squared_error(neigh.predict(X_test.values.reshape(-1, 1)),y_test))\n",
    "\n",
    "\n",
    "filename = 'data_ch5.csv'\n",
    "dataset = pd.read_csv(filename)\n",
    "\n",
    "x_data= dataset.iloc[:, 1]\n",
    "y_data= dataset.iloc[:, 0]\n",
    "\n",
    "X_train, X_test, y_train, y_test = train_test_split(\n",
    "             x_data, y_data, test_size=0.33)\n",
    "\n",
    "\n",
    "neigh = KNeighborsRegressor(n_neighbors=2)\n",
    "neigh.fit(X_train.values.reshape(-1, 1),y_train)\n",
    "print(mean_squared_error(neigh.predict(X_test.values.reshape(-1, 1)),y_test))\n",
    "\n",
    "\n",
    "\n",
    "filename = '2dExample.csv'\n",
    "dataset = pd.read_csv(filename)\n",
    "\n",
    "x_data= dataset.iloc[:, 1]\n",
    "y_data= dataset.iloc[:, 2]\n",
    "\n",
    "X_train, X_test, y_train, y_test = train_test_split(\n",
    "             x_data, y_data, test_size=0.33)\n",
    "\n",
    "\n",
    "neigh = KNeighborsRegressor(n_neighbors=2)\n",
    "neigh.fit(X_train.values.reshape(-1, 1),y_train)\n",
    "print(mean_squared_error(neigh.predict(X_test.values.reshape(-1, 1)),y_test))\n",
    "\n"
   ]
  },
  {
   "cell_type": "code",
   "execution_count": 13,
   "metadata": {},
   "outputs": [
    {
     "name": "stdout",
     "output_type": "stream",
     "text": [
      "0.00809745740339771\n",
      "3.4359366058391414\n",
      "0.21300294250418236\n"
     ]
    },
    {
     "name": "stderr",
     "output_type": "stream",
     "text": [
      "<ipython-input-13-dce906dd2a08>:12: FutureWarning: Support for multi-dimensional indexing (e.g. `obj[:, None]`) is deprecated and will be removed in a future version.  Convert to a numpy array before indexing instead.\n",
      "  x_data = x_data[:, np.newaxis]\n",
      "<ipython-input-13-dce906dd2a08>:13: FutureWarning: Support for multi-dimensional indexing (e.g. `obj[:, None]`) is deprecated and will be removed in a future version.  Convert to a numpy array before indexing instead.\n",
      "  y_data = y_data[:, np.newaxis]\n",
      "<ipython-input-13-dce906dd2a08>:32: FutureWarning: Support for multi-dimensional indexing (e.g. `obj[:, None]`) is deprecated and will be removed in a future version.  Convert to a numpy array before indexing instead.\n",
      "  x_data = x_data[:, np.newaxis]\n",
      "<ipython-input-13-dce906dd2a08>:33: FutureWarning: Support for multi-dimensional indexing (e.g. `obj[:, None]`) is deprecated and will be removed in a future version.  Convert to a numpy array before indexing instead.\n",
      "  y_data = y_data[:, np.newaxis]\n",
      "<ipython-input-13-dce906dd2a08>:56: FutureWarning: Support for multi-dimensional indexing (e.g. `obj[:, None]`) is deprecated and will be removed in a future version.  Convert to a numpy array before indexing instead.\n",
      "  x_data = x_data[:, np.newaxis]\n",
      "<ipython-input-13-dce906dd2a08>:57: FutureWarning: Support for multi-dimensional indexing (e.g. `obj[:, None]`) is deprecated and will be removed in a future version.  Convert to a numpy array before indexing instead.\n",
      "  y_data = y_data[:, np.newaxis]\n"
     ]
    }
   ],
   "source": [
    "from sklearn.preprocessing import PolynomialFeatures\n",
    "from sklearn.linear_model import LinearRegression\n",
    "\n",
    "filename = 'df.csv'\n",
    "dataset = pd.read_csv(filename)\n",
    "\n",
    "x_data= dataset.iloc[:, 0]\n",
    "y_data= dataset.iloc[:, 1]\n",
    "\n",
    "\n",
    "\n",
    "x_data = x_data[:, np.newaxis]\n",
    "y_data = y_data[:, np.newaxis]\n",
    "\n",
    "polynomial_features= PolynomialFeatures(degree=2)\n",
    "x_poly = polynomial_features.fit_transform(x_data)\n",
    "\n",
    "model = LinearRegression()\n",
    "model.fit(x_poly, y_data)\n",
    "y_poly_pred = model.predict(x_poly)\n",
    "\n",
    "print(np.sqrt(mean_squared_error(y_data,y_poly_pred)))\n",
    "\n",
    "\n",
    "filename = 'data_ch5.csv'\n",
    "dataset = pd.read_csv(filename)\n",
    "\n",
    "x_data= dataset.iloc[:, 1]\n",
    "y_data= dataset.iloc[:, 0]\n",
    "\n",
    "\n",
    "x_data = x_data[:, np.newaxis]\n",
    "y_data = y_data[:, np.newaxis]\n",
    "\n",
    "polynomial_features= PolynomialFeatures(degree=2)\n",
    "x_poly = polynomial_features.fit_transform(x_data)\n",
    "\n",
    "model = LinearRegression()\n",
    "model.fit(x_poly, y_data)\n",
    "y_poly_pred = model.predict(x_poly)\n",
    "\n",
    "print(np.sqrt(mean_squared_error(y_data,y_poly_pred)))\n",
    "\n",
    "  \n",
    "\n",
    "\n",
    "\n",
    "filename = '2dExample.csv'\n",
    "dataset = pd.read_csv(filename)\n",
    "\n",
    "dataset.drop(dataset.columns[0], axis=1)\n",
    "\n",
    "x_data= dataset.iloc[:, 1]\n",
    "y_data= dataset.iloc[:, 2]\n",
    "\n",
    "x_data = x_data[:, np.newaxis]\n",
    "y_data = y_data[:, np.newaxis]\n",
    "\n",
    "polynomial_features= PolynomialFeatures(degree=2)\n",
    "x_poly = polynomial_features.fit_transform(x_data)\n",
    "\n",
    "model = LinearRegression()\n",
    "model.fit(x_poly, y_data)\n",
    "y_poly_pred = model.predict(x_poly)\n",
    "\n",
    "print(np.sqrt(mean_squared_error(y_data,y_poly_pred)))\n",
    "\n",
    "\n"
   ]
  },
  {
   "cell_type": "code",
   "execution_count": null,
   "metadata": {},
   "outputs": [],
   "source": []
  }
 ],
 "metadata": {
  "kernelspec": {
   "display_name": "Python 3",
   "language": "python",
   "name": "python3"
  },
  "language_info": {
   "codemirror_mode": {
    "name": "ipython",
    "version": 3
   },
   "file_extension": ".py",
   "mimetype": "text/x-python",
   "name": "python",
   "nbconvert_exporter": "python",
   "pygments_lexer": "ipython3",
   "version": "3.8.5"
  },
  "latex_envs": {
   "LaTeX_envs_menu_present": true,
   "autoclose": false,
   "autocomplete": true,
   "bibliofile": "biblio.bib",
   "cite_by": "apalike",
   "current_citInitial": 1,
   "eqLabelWithNumbers": true,
   "eqNumInitial": 1,
   "hotkeys": {
    "equation": "Ctrl-E",
    "itemize": "Ctrl-I"
   },
   "labels_anchors": false,
   "latex_user_defs": false,
   "report_style_numbering": false,
   "user_envs_cfg": false
  },
  "nbTranslate": {
   "displayLangs": [
    "*"
   ],
   "hotkey": "alt-t",
   "langInMainMenu": true,
   "sourceLang": "en",
   "targetLang": "fr",
   "useGoogleTranslate": true
  },
  "toc": {
   "base_numbering": 1,
   "nav_menu": {},
   "number_sections": true,
   "sideBar": true,
   "skip_h1_title": false,
   "title_cell": "Table of Contents",
   "title_sidebar": "Contents",
   "toc_cell": false,
   "toc_position": {},
   "toc_section_display": true,
   "toc_window_display": false
  },
  "varInspector": {
   "cols": {
    "lenName": 16,
    "lenType": 16,
    "lenVar": 40
   },
   "kernels_config": {
    "python": {
     "delete_cmd_postfix": "",
     "delete_cmd_prefix": "del ",
     "library": "var_list.py",
     "varRefreshCmd": "print(var_dic_list())"
    },
    "r": {
     "delete_cmd_postfix": ") ",
     "delete_cmd_prefix": "rm(",
     "library": "var_list.r",
     "varRefreshCmd": "cat(var_dic_list()) "
    }
   },
   "types_to_exclude": [
    "module",
    "function",
    "builtin_function_or_method",
    "instance",
    "_Feature"
   ],
   "window_display": false
  }
 },
 "nbformat": 4,
 "nbformat_minor": 2
}
