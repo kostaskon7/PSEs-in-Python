{
 "cells": [
  {
   "cell_type": "markdown",
   "id": "parliamentary-proxy",
   "metadata": {},
   "source": [
    "# Project 1\n",
    "Konstantinos Konstantinidis 2546\n",
    "\n",
    "Nikolaos Stavrinos 2631"
   ]
  },
  {
   "cell_type": "code",
   "execution_count": 1,
   "id": "passive-copying",
   "metadata": {
    "colab": {
     "base_uri": "https://localhost:8080/",
     "height": 205
    },
    "id": "passive-copying",
    "outputId": "2d5823ef-00e0-4d3f-be23-7a82e3ce6217"
   },
   "outputs": [
    {
     "data": {
      "text/html": [
       "<div>\n",
       "<style scoped>\n",
       "    .dataframe tbody tr th:only-of-type {\n",
       "        vertical-align: middle;\n",
       "    }\n",
       "\n",
       "    .dataframe tbody tr th {\n",
       "        vertical-align: top;\n",
       "    }\n",
       "\n",
       "    .dataframe thead th {\n",
       "        text-align: right;\n",
       "    }\n",
       "</style>\n",
       "<table border=\"1\" class=\"dataframe\">\n",
       "  <thead>\n",
       "    <tr style=\"text-align: right;\">\n",
       "      <th></th>\n",
       "      <th>ID</th>\n",
       "      <th>Prod</th>\n",
       "      <th>Quant</th>\n",
       "      <th>Val</th>\n",
       "      <th>Insp</th>\n",
       "    </tr>\n",
       "  </thead>\n",
       "  <tbody>\n",
       "    <tr>\n",
       "      <th>0</th>\n",
       "      <td>v1</td>\n",
       "      <td>p1</td>\n",
       "      <td>182.0</td>\n",
       "      <td>1665.0</td>\n",
       "      <td>unkn</td>\n",
       "    </tr>\n",
       "    <tr>\n",
       "      <th>1</th>\n",
       "      <td>v2</td>\n",
       "      <td>p1</td>\n",
       "      <td>3072.0</td>\n",
       "      <td>8780.0</td>\n",
       "      <td>unkn</td>\n",
       "    </tr>\n",
       "    <tr>\n",
       "      <th>2</th>\n",
       "      <td>v3</td>\n",
       "      <td>p1</td>\n",
       "      <td>20393.0</td>\n",
       "      <td>76990.0</td>\n",
       "      <td>unkn</td>\n",
       "    </tr>\n",
       "    <tr>\n",
       "      <th>3</th>\n",
       "      <td>v4</td>\n",
       "      <td>p1</td>\n",
       "      <td>112.0</td>\n",
       "      <td>1100.0</td>\n",
       "      <td>unkn</td>\n",
       "    </tr>\n",
       "    <tr>\n",
       "      <th>4</th>\n",
       "      <td>v3</td>\n",
       "      <td>p1</td>\n",
       "      <td>6164.0</td>\n",
       "      <td>20260.0</td>\n",
       "      <td>unkn</td>\n",
       "    </tr>\n",
       "  </tbody>\n",
       "</table>\n",
       "</div>"
      ],
      "text/plain": [
       "   ID Prod    Quant      Val  Insp\n",
       "0  v1   p1    182.0   1665.0  unkn\n",
       "1  v2   p1   3072.0   8780.0  unkn\n",
       "2  v3   p1  20393.0  76990.0  unkn\n",
       "3  v4   p1    112.0   1100.0  unkn\n",
       "4  v3   p1   6164.0  20260.0  unkn"
      ]
     },
     "execution_count": 1,
     "metadata": {},
     "output_type": "execute_result"
    }
   ],
   "source": [
    "import pandas as pd\n",
    "\n",
    "result = pd.read_excel(\"sales.xlsx\")\n",
    "\n",
    "result.head()"
   ]
  },
  {
   "cell_type": "markdown",
   "id": "valuable-nothing",
   "metadata": {
    "id": "valuable-nothing"
   },
   "source": [
    "## Finding the Unit Price of each product"
   ]
  },
  {
   "cell_type": "code",
   "execution_count": 2,
   "id": "emerging-biodiversity",
   "metadata": {
    "colab": {
     "base_uri": "https://localhost:8080/"
    },
    "id": "emerging-biodiversity",
    "outputId": "d902b748-b555-4360-dfc6-1b6a6b0515d8"
   },
   "outputs": [
    {
     "name": "stdout",
     "output_type": "stream",
     "text": [
      "2406876\n"
     ]
    }
   ],
   "source": [
    "result[\"Unit_price\"]=result[[\"Val\"]].div(result.Quant, axis=0)\n",
    "print(result.size)"
   ]
  },
  {
   "cell_type": "markdown",
   "id": "structural-structure",
   "metadata": {},
   "source": [
    "## We will use the median unit price to represent the typical price at which a product is sold"
   ]
  },
  {
   "cell_type": "code",
   "execution_count": 3,
   "id": "nominated-ecology",
   "metadata": {},
   "outputs": [
    {
     "name": "stdout",
     "output_type": "stream",
     "text": [
      "Cheap\n",
      "         Median\n",
      "Prod           \n",
      "p560   0.016885\n",
      "p559   0.018844\n",
      "p4195  0.030259\n",
      "p601   0.055223\n",
      "p563   0.055764\n",
      "\n",
      "Expensive\n",
      "            Median\n",
      "Prod              \n",
      "p3689  9204.195372\n",
      "p2453   456.078431\n",
      "p2452   329.313725\n",
      "p2456   304.851485\n",
      "p2459   283.811881\n"
     ]
    }
   ],
   "source": [
    "uprice_by_prod=pd.DataFrame()\n",
    "uprice_by_prod[\"Median\"] = result[\"Unit_price\"].groupby(result[\"Prod\"], group_keys = True).agg(Median='median').dropna()['Median']\n",
    "\n",
    "print(\"Cheap\")\n",
    "print(uprice_by_prod.sort_values(\"Median\", ascending=True).head(5))\n",
    "print(\"\\nExpensive\")\n",
    "print(uprice_by_prod.sort_values(\"Median\",  ascending=False).head(5))\n",
    "\n"
   ]
  },
  {
   "cell_type": "markdown",
   "id": "upper-locator",
   "metadata": {},
   "source": [
    "## Unknown Values"
   ]
  },
  {
   "cell_type": "code",
   "execution_count": 4,
   "id": "formal-ebony",
   "metadata": {},
   "outputs": [
    {
     "data": {
      "text/html": [
       "<div>\n",
       "<style scoped>\n",
       "    .dataframe tbody tr th:only-of-type {\n",
       "        vertical-align: middle;\n",
       "    }\n",
       "\n",
       "    .dataframe tbody tr th {\n",
       "        vertical-align: top;\n",
       "    }\n",
       "\n",
       "    .dataframe thead th {\n",
       "        text-align: right;\n",
       "    }\n",
       "</style>\n",
       "<table border=\"1\" class=\"dataframe\">\n",
       "  <thead>\n",
       "    <tr style=\"text-align: right;\">\n",
       "      <th></th>\n",
       "      <th>ID</th>\n",
       "      <th>Prod</th>\n",
       "      <th>Quant</th>\n",
       "      <th>Val</th>\n",
       "      <th>Insp</th>\n",
       "      <th>Unit_price</th>\n",
       "    </tr>\n",
       "  </thead>\n",
       "  <tbody>\n",
       "    <tr>\n",
       "      <th>3227</th>\n",
       "      <td>v29</td>\n",
       "      <td>p808</td>\n",
       "      <td>NaN</td>\n",
       "      <td>NaN</td>\n",
       "      <td>unkn</td>\n",
       "      <td>NaN</td>\n",
       "    </tr>\n",
       "    <tr>\n",
       "      <th>4166</th>\n",
       "      <td>v453</td>\n",
       "      <td>p921</td>\n",
       "      <td>NaN</td>\n",
       "      <td>NaN</td>\n",
       "      <td>unkn</td>\n",
       "      <td>NaN</td>\n",
       "    </tr>\n",
       "    <tr>\n",
       "      <th>5102</th>\n",
       "      <td>v431</td>\n",
       "      <td>p1035</td>\n",
       "      <td>NaN</td>\n",
       "      <td>NaN</td>\n",
       "      <td>unkn</td>\n",
       "      <td>NaN</td>\n",
       "    </tr>\n",
       "    <tr>\n",
       "      <th>5211</th>\n",
       "      <td>v431</td>\n",
       "      <td>p1</td>\n",
       "      <td>NaN</td>\n",
       "      <td>NaN</td>\n",
       "      <td>unkn</td>\n",
       "      <td>NaN</td>\n",
       "    </tr>\n",
       "    <tr>\n",
       "      <th>5213</th>\n",
       "      <td>v431</td>\n",
       "      <td>p1</td>\n",
       "      <td>NaN</td>\n",
       "      <td>NaN</td>\n",
       "      <td>unkn</td>\n",
       "      <td>NaN</td>\n",
       "    </tr>\n",
       "    <tr>\n",
       "      <th>...</th>\n",
       "      <td>...</td>\n",
       "      <td>...</td>\n",
       "      <td>...</td>\n",
       "      <td>...</td>\n",
       "      <td>...</td>\n",
       "      <td>...</td>\n",
       "    </tr>\n",
       "    <tr>\n",
       "      <th>396552</th>\n",
       "      <td>v4834</td>\n",
       "      <td>p3801</td>\n",
       "      <td>NaN</td>\n",
       "      <td>NaN</td>\n",
       "      <td>unkn</td>\n",
       "      <td>NaN</td>\n",
       "    </tr>\n",
       "    <tr>\n",
       "      <th>396751</th>\n",
       "      <td>v2719</td>\n",
       "      <td>p3825</td>\n",
       "      <td>NaN</td>\n",
       "      <td>NaN</td>\n",
       "      <td>unkn</td>\n",
       "      <td>NaN</td>\n",
       "    </tr>\n",
       "    <tr>\n",
       "      <th>400010</th>\n",
       "      <td>v1247</td>\n",
       "      <td>p4088</td>\n",
       "      <td>NaN</td>\n",
       "      <td>NaN</td>\n",
       "      <td>unkn</td>\n",
       "      <td>NaN</td>\n",
       "    </tr>\n",
       "    <tr>\n",
       "      <th>400094</th>\n",
       "      <td>v1085</td>\n",
       "      <td>p4089</td>\n",
       "      <td>NaN</td>\n",
       "      <td>NaN</td>\n",
       "      <td>unkn</td>\n",
       "      <td>NaN</td>\n",
       "    </tr>\n",
       "    <tr>\n",
       "      <th>400368</th>\n",
       "      <td>v1085</td>\n",
       "      <td>p4091</td>\n",
       "      <td>NaN</td>\n",
       "      <td>NaN</td>\n",
       "      <td>unkn</td>\n",
       "      <td>NaN</td>\n",
       "    </tr>\n",
       "  </tbody>\n",
       "</table>\n",
       "<p>888 rows × 6 columns</p>\n",
       "</div>"
      ],
      "text/plain": [
       "           ID   Prod  Quant  Val  Insp  Unit_price\n",
       "3227      v29   p808    NaN  NaN  unkn         NaN\n",
       "4166     v453   p921    NaN  NaN  unkn         NaN\n",
       "5102     v431  p1035    NaN  NaN  unkn         NaN\n",
       "5211     v431     p1    NaN  NaN  unkn         NaN\n",
       "5213     v431     p1    NaN  NaN  unkn         NaN\n",
       "...       ...    ...    ...  ...   ...         ...\n",
       "396552  v4834  p3801    NaN  NaN  unkn         NaN\n",
       "396751  v2719  p3825    NaN  NaN  unkn         NaN\n",
       "400010  v1247  p4088    NaN  NaN  unkn         NaN\n",
       "400094  v1085  p4089    NaN  NaN  unkn         NaN\n",
       "400368  v1085  p4091    NaN  NaN  unkn         NaN\n",
       "\n",
       "[888 rows x 6 columns]"
      ]
     },
     "execution_count": 4,
     "metadata": {},
     "output_type": "execute_result"
    }
   ],
   "source": [
    "result[result['Quant'].isna() & result['Val'].isna()]"
   ]
  },
  {
   "cell_type": "markdown",
   "id": "labeled-audience",
   "metadata": {},
   "source": [
    "## Removing those cells with both Quant and Val as Nan"
   ]
  },
  {
   "cell_type": "code",
   "execution_count": 5,
   "id": "unable-arrow",
   "metadata": {},
   "outputs": [],
   "source": [
    "result=result[~(result['Quant'].isna() & result['Val'].isna())]"
   ]
  },
  {
   "cell_type": "markdown",
   "id": "harmful-republican",
   "metadata": {},
   "source": [
    "## There are two products (p2442 and p2443) that have all their transactions with unknown values of the quantity"
   ]
  },
  {
   "cell_type": "code",
   "execution_count": 6,
   "id": "chubby-marsh",
   "metadata": {},
   "outputs": [],
   "source": [
    "result=result[~(result['Prod']==\"p2442\" )]\n",
    "result=result[~(result['Prod']==\"p2443\" )]"
   ]
  },
  {
   "cell_type": "markdown",
   "id": "social-remains",
   "metadata": {},
   "source": [
    "## Remaining Products"
   ]
  },
  {
   "cell_type": "code",
   "execution_count": 7,
   "id": "indie-dance",
   "metadata": {},
   "outputs": [
    {
     "data": {
      "text/plain": [
       "4546"
      ]
     },
     "execution_count": 7,
     "metadata": {},
     "output_type": "execute_result"
    }
   ],
   "source": [
    "len(result.groupby(result[\"Prod\"], group_keys = True))"
   ]
  },
  {
   "cell_type": "markdown",
   "id": "balanced-statement",
   "metadata": {},
   "source": [
    "## Calculate any of the two possibly missing values (Quant and Val)."
   ]
  },
  {
   "cell_type": "code",
   "execution_count": 8,
   "id": "moral-hamilton",
   "metadata": {},
   "outputs": [],
   "source": [
    "import numpy as np\n",
    "\n",
    "No_Fraud=result[result[\"Insp\"].values!=\"fraud\"]\n",
    "tPrice= No_Fraud[\"Unit_price\"].groupby(No_Fraud[\"Prod\"], group_keys = True).agg(Median='median').dropna()['Median']\n",
    "\n",
    "\n",
    "\n",
    "result[\"Quant\"]= np.where(pd.isna(result[\"Quant\"]), np.ceil(result['Val'].values/(tPrice.loc[result['Prod']].values)), result[\"Quant\"])\n"
   ]
  },
  {
   "cell_type": "code",
   "execution_count": 9,
   "id": "higher-estimate",
   "metadata": {},
   "outputs": [
    {
     "name": "stdout",
     "output_type": "stream",
     "text": [
      "0\n"
     ]
    }
   ],
   "source": [
    "print(result[\"Quant\"].isna().sum())"
   ]
  },
  {
   "cell_type": "code",
   "execution_count": 10,
   "id": "romance-faith",
   "metadata": {},
   "outputs": [],
   "source": [
    "\n",
    "result[\"Val\"]= np.where(pd.isna(result[\"Val\"]), np.ceil(result['Quant'].values*(tPrice.loc[result['Prod']].values)), result[\"Val\"])\n"
   ]
  },
  {
   "cell_type": "code",
   "execution_count": 11,
   "id": "joint-construction",
   "metadata": {},
   "outputs": [
    {
     "name": "stdout",
     "output_type": "stream",
     "text": [
      "0\n"
     ]
    }
   ],
   "source": [
    "print(result[\"Val\"].isna().sum())"
   ]
  },
  {
   "cell_type": "markdown",
   "id": "conceptual-halifax",
   "metadata": {},
   "source": [
    "## Recalculating Unit Price"
   ]
  },
  {
   "cell_type": "code",
   "execution_count": 12,
   "id": "organizational-coaching",
   "metadata": {},
   "outputs": [],
   "source": [
    "result[\"Unit_price\"]=result[[\"Val\"]].div(result.Quant, axis=0)"
   ]
  },
  {
   "cell_type": "markdown",
   "id": "mineral-chick",
   "metadata": {
    "id": "mineral-chick"
   },
   "source": [
    "## Removing the outliers with the use of the IQR method"
   ]
  },
  {
   "cell_type": "code",
   "execution_count": 13,
   "id": "separated-importance",
   "metadata": {
    "colab": {
     "base_uri": "https://localhost:8080/"
    },
    "id": "separated-importance",
    "outputId": "374a0619-bf03-4ca0-a44f-ba5309e4df7c"
   },
   "outputs": [
    {
     "name": "stdout",
     "output_type": "stream",
     "text": [
      "2401224\n"
     ]
    },
    {
     "name": "stderr",
     "output_type": "stream",
     "text": [
      "<ipython-input-13-a8a248d3126b>:6: FutureWarning: Automatic reindexing on DataFrame vs Series comparisons is deprecated and will raise ValueError in a future version.  Do `left, right = left.align(right, axis=1, copy=False)` before e.g. `left == right`\n",
      "  result = result[~((result < (Q1 - 1.5 * IQR)) |(result > (Q3 + 1.5 * IQR))).any(axis=1)]\n",
      "<ipython-input-13-a8a248d3126b>:6: FutureWarning: Automatic reindexing on DataFrame vs Series comparisons is deprecated and will raise ValueError in a future version.  Do `left, right = left.align(right, axis=1, copy=False)` before e.g. `left == right`\n",
      "  result = result[~((result < (Q1 - 1.5 * IQR)) |(result > (Q3 + 1.5 * IQR))).any(axis=1)]\n"
     ]
    },
    {
     "data": {
      "text/plain": [
       "1741110"
      ]
     },
     "execution_count": 13,
     "metadata": {},
     "output_type": "execute_result"
    }
   ],
   "source": [
    "print(result.size)\n",
    "Q1 = result.quantile(0.25)\n",
    "Q3 = result.quantile(0.75)\n",
    "IQR = Q3 - Q1\n",
    "\n",
    "result = result[~((result < (Q1 - 1.5 * IQR)) |(result > (Q3 + 1.5 * IQR))).any(axis=1)]\n",
    "result.size"
   ]
  },
  {
   "cell_type": "markdown",
   "id": "wooden-military",
   "metadata": {
    "id": "wooden-military"
   },
   "source": [
    "## Semi Supervised learning Model"
   ]
  },
  {
   "cell_type": "code",
   "execution_count": 6,
   "id": "south-creativity",
   "metadata": {
    "colab": {
     "base_uri": "https://localhost:8080/",
     "height": 421
    },
    "id": "south-creativity",
    "outputId": "de0ab9d3-323f-41e7-d969-9a26b7ad80ab"
   },
   "outputs": [
    {
     "data": {
      "text/html": [
       "<div>\n",
       "<style scoped>\n",
       "    .dataframe tbody tr th:only-of-type {\n",
       "        vertical-align: middle;\n",
       "    }\n",
       "\n",
       "    .dataframe tbody tr th {\n",
       "        vertical-align: top;\n",
       "    }\n",
       "\n",
       "    .dataframe thead th {\n",
       "        text-align: right;\n",
       "    }\n",
       "</style>\n",
       "<table border=\"1\" class=\"dataframe\">\n",
       "  <thead>\n",
       "    <tr style=\"text-align: right;\">\n",
       "      <th></th>\n",
       "      <th>ID</th>\n",
       "      <th>Prod</th>\n",
       "      <th>Quant</th>\n",
       "      <th>Val</th>\n",
       "      <th>Insp</th>\n",
       "      <th>Insp_code</th>\n",
       "      <th>Prod_code</th>\n",
       "      <th>Unit_price</th>\n",
       "    </tr>\n",
       "  </thead>\n",
       "  <tbody>\n",
       "    <tr>\n",
       "      <th>51</th>\n",
       "      <td>v45</td>\n",
       "      <td>p11</td>\n",
       "      <td>260.0</td>\n",
       "      <td>1925.0</td>\n",
       "      <td>ok</td>\n",
       "      <td>1.0</td>\n",
       "      <td>112.0</td>\n",
       "      <td>7.403846</td>\n",
       "    </tr>\n",
       "    <tr>\n",
       "      <th>77</th>\n",
       "      <td>v46</td>\n",
       "      <td>p12</td>\n",
       "      <td>475.0</td>\n",
       "      <td>2600.0</td>\n",
       "      <td>ok</td>\n",
       "      <td>1.0</td>\n",
       "      <td>222.0</td>\n",
       "      <td>5.473684</td>\n",
       "    </tr>\n",
       "    <tr>\n",
       "      <th>79</th>\n",
       "      <td>v48</td>\n",
       "      <td>p12</td>\n",
       "      <td>433.0</td>\n",
       "      <td>3395.0</td>\n",
       "      <td>ok</td>\n",
       "      <td>1.0</td>\n",
       "      <td>222.0</td>\n",
       "      <td>7.840647</td>\n",
       "    </tr>\n",
       "    <tr>\n",
       "      <th>91</th>\n",
       "      <td>v49</td>\n",
       "      <td>p14</td>\n",
       "      <td>212.0</td>\n",
       "      <td>1545.0</td>\n",
       "      <td>ok</td>\n",
       "      <td>1.0</td>\n",
       "      <td>432.0</td>\n",
       "      <td>7.287736</td>\n",
       "    </tr>\n",
       "    <tr>\n",
       "      <th>380</th>\n",
       "      <td>v68</td>\n",
       "      <td>p59</td>\n",
       "      <td>107.0</td>\n",
       "      <td>1015.0</td>\n",
       "      <td>ok</td>\n",
       "      <td>1.0</td>\n",
       "      <td>4007.0</td>\n",
       "      <td>9.485981</td>\n",
       "    </tr>\n",
       "    <tr>\n",
       "      <th>...</th>\n",
       "      <td>...</td>\n",
       "      <td>...</td>\n",
       "      <td>...</td>\n",
       "      <td>...</td>\n",
       "      <td>...</td>\n",
       "      <td>...</td>\n",
       "      <td>...</td>\n",
       "      <td>...</td>\n",
       "    </tr>\n",
       "    <tr>\n",
       "      <th>400767</th>\n",
       "      <td>v3853</td>\n",
       "      <td>p4095</td>\n",
       "      <td>732.0</td>\n",
       "      <td>15110.0</td>\n",
       "      <td>ok</td>\n",
       "      <td>1.0</td>\n",
       "      <td>3387.0</td>\n",
       "      <td>20.642077</td>\n",
       "    </tr>\n",
       "    <tr>\n",
       "      <th>400768</th>\n",
       "      <td>v5904</td>\n",
       "      <td>p4095</td>\n",
       "      <td>201.0</td>\n",
       "      <td>13640.0</td>\n",
       "      <td>ok</td>\n",
       "      <td>1.0</td>\n",
       "      <td>3387.0</td>\n",
       "      <td>67.860697</td>\n",
       "    </tr>\n",
       "    <tr>\n",
       "      <th>400789</th>\n",
       "      <td>v3848</td>\n",
       "      <td>p4096</td>\n",
       "      <td>123.0</td>\n",
       "      <td>7560.0</td>\n",
       "      <td>fraud</td>\n",
       "      <td>0.0</td>\n",
       "      <td>3388.0</td>\n",
       "      <td>61.463415</td>\n",
       "    </tr>\n",
       "    <tr>\n",
       "      <th>400797</th>\n",
       "      <td>v3179</td>\n",
       "      <td>p4096</td>\n",
       "      <td>907.0</td>\n",
       "      <td>17350.0</td>\n",
       "      <td>ok</td>\n",
       "      <td>1.0</td>\n",
       "      <td>3388.0</td>\n",
       "      <td>19.128997</td>\n",
       "    </tr>\n",
       "    <tr>\n",
       "      <th>400814</th>\n",
       "      <td>v3179</td>\n",
       "      <td>p4096</td>\n",
       "      <td>650.0</td>\n",
       "      <td>18290.0</td>\n",
       "      <td>ok</td>\n",
       "      <td>1.0</td>\n",
       "      <td>3388.0</td>\n",
       "      <td>28.138462</td>\n",
       "    </tr>\n",
       "  </tbody>\n",
       "</table>\n",
       "<p>7944 rows × 8 columns</p>\n",
       "</div>"
      ],
      "text/plain": [
       "           ID   Prod  Quant      Val   Insp  Insp_code  Prod_code  Unit_price\n",
       "51        v45    p11  260.0   1925.0     ok        1.0      112.0    7.403846\n",
       "77        v46    p12  475.0   2600.0     ok        1.0      222.0    5.473684\n",
       "79        v48    p12  433.0   3395.0     ok        1.0      222.0    7.840647\n",
       "91        v49    p14  212.0   1545.0     ok        1.0      432.0    7.287736\n",
       "380       v68    p59  107.0   1015.0     ok        1.0     4007.0    9.485981\n",
       "...       ...    ...    ...      ...    ...        ...        ...         ...\n",
       "400767  v3853  p4095  732.0  15110.0     ok        1.0     3387.0   20.642077\n",
       "400768  v5904  p4095  201.0  13640.0     ok        1.0     3387.0   67.860697\n",
       "400789  v3848  p4096  123.0   7560.0  fraud        0.0     3388.0   61.463415\n",
       "400797  v3179  p4096  907.0  17350.0     ok        1.0     3388.0   19.128997\n",
       "400814  v3179  p4096  650.0  18290.0     ok        1.0     3388.0   28.138462\n",
       "\n",
       "[7944 rows x 8 columns]"
      ]
     },
     "execution_count": 6,
     "metadata": {},
     "output_type": "execute_result"
    }
   ],
   "source": [
    "import numpy as np\n",
    "from sklearn.model_selection import train_test_split\n",
    "from sklearn.linear_model import LogisticRegression\n",
    "from sklearn.metrics import f1_score\n",
    "from sklearn import svm\n",
    "\n",
    "\n",
    "\n",
    "\n",
    "Labeled_data=result[result[\"Insp\"].values!=\"unkn\"]\n",
    "\n",
    "Labeled_data"
   ]
  },
  {
   "cell_type": "code",
   "execution_count": 7,
   "id": "ambient-credit",
   "metadata": {
    "colab": {
     "base_uri": "https://localhost:8080/"
    },
    "id": "ambient-credit",
    "outputId": "40ed1d8a-d86a-40d5-bc14-252c613c9a62"
   },
   "outputs": [
    {
     "name": "stdout",
     "output_type": "stream",
     "text": [
      "(5560, 1)\n",
      "(5560, 3)\n",
      "(5560, 1)\n"
     ]
    }
   ],
   "source": [
    "X_train, X_test, y_train, y_test = train_test_split( Labeled_data[[\"Prod_code\",\"Quant\",\"Val\"]],\n",
    "                                                    Labeled_data[[\"Insp_code\"]], test_size=0.30, random_state=42)\n",
    "\n",
    "# all parameters not specified are set to their defaults\n",
    "print(y_train.shape)\n",
    "print(X_train.shape)\n",
    "\n",
    "print(y_train.shape)\n"
   ]
  },
  {
   "cell_type": "code",
   "execution_count": 8,
   "id": "based-hacker",
   "metadata": {
    "id": "based-hacker"
   },
   "outputs": [],
   "source": [
    "clf = svm.SVC(kernel='linear', probability=True,C=1).fit(X_train, y_train.values.ravel())"
   ]
  },
  {
   "cell_type": "code",
   "execution_count": 9,
   "id": "serious-floating",
   "metadata": {
    "colab": {
     "base_uri": "https://localhost:8080/"
    },
    "id": "serious-floating",
    "outputId": "44faf646-02a8-41ab-aef3-821383b4dec4"
   },
   "outputs": [
    {
     "data": {
      "text/plain": [
       "0.9446308724832215"
      ]
     },
     "execution_count": 9,
     "metadata": {},
     "output_type": "execute_result"
    }
   ],
   "source": [
    "clf.score(X_test, y_test)\n"
   ]
  },
  {
   "cell_type": "code",
   "execution_count": 10,
   "id": "helpful-causing",
   "metadata": {
    "colab": {
     "base_uri": "https://localhost:8080/",
     "height": 851
    },
    "id": "helpful-causing",
    "outputId": "5d388fba-cde9-459b-a86c-5c0b0f6201f4"
   },
   "outputs": [
    {
     "name": "stderr",
     "output_type": "stream",
     "text": [
      "/usr/local/lib/python3.7/dist-packages/ipykernel_launcher.py:8: SettingWithCopyWarning: \n",
      "A value is trying to be set on a copy of a slice from a DataFrame.\n",
      "Try using .loc[row_indexer,col_indexer] = value instead\n",
      "\n",
      "See the caveats in the documentation: https://pandas.pydata.org/pandas-docs/stable/user_guide/indexing.html#returning-a-view-versus-a-copy\n",
      "  \n",
      "/usr/local/lib/python3.7/dist-packages/ipykernel_launcher.py:9: SettingWithCopyWarning: \n",
      "A value is trying to be set on a copy of a slice from a DataFrame.\n",
      "Try using .loc[row_indexer,col_indexer] = value instead\n",
      "\n",
      "See the caveats in the documentation: https://pandas.pydata.org/pandas-docs/stable/user_guide/indexing.html#returning-a-view-versus-a-copy\n",
      "  if __name__ == '__main__':\n",
      "/usr/local/lib/python3.7/dist-packages/ipykernel_launcher.py:10: SettingWithCopyWarning: \n",
      "A value is trying to be set on a copy of a slice from a DataFrame.\n",
      "Try using .loc[row_indexer,col_indexer] = value instead\n",
      "\n",
      "See the caveats in the documentation: https://pandas.pydata.org/pandas-docs/stable/user_guide/indexing.html#returning-a-view-versus-a-copy\n",
      "  # Remove the CWD from sys.path while we load stuff.\n",
      "/usr/local/lib/python3.7/dist-packages/ipykernel_launcher.py:11: SettingWithCopyWarning: \n",
      "A value is trying to be set on a copy of a slice from a DataFrame.\n",
      "Try using .loc[row_indexer,col_indexer] = value instead\n",
      "\n",
      "See the caveats in the documentation: https://pandas.pydata.org/pandas-docs/stable/user_guide/indexing.html#returning-a-view-versus-a-copy\n",
      "  # This is added back by InteractiveShellApp.init_path()\n"
     ]
    },
    {
     "data": {
      "text/html": [
       "<div>\n",
       "<style scoped>\n",
       "    .dataframe tbody tr th:only-of-type {\n",
       "        vertical-align: middle;\n",
       "    }\n",
       "\n",
       "    .dataframe tbody tr th {\n",
       "        vertical-align: top;\n",
       "    }\n",
       "\n",
       "    .dataframe thead th {\n",
       "        text-align: right;\n",
       "    }\n",
       "</style>\n",
       "<table border=\"1\" class=\"dataframe\">\n",
       "  <thead>\n",
       "    <tr style=\"text-align: right;\">\n",
       "      <th></th>\n",
       "      <th>ID</th>\n",
       "      <th>Prod</th>\n",
       "      <th>Quant</th>\n",
       "      <th>Val</th>\n",
       "      <th>Insp</th>\n",
       "      <th>Insp_code</th>\n",
       "      <th>Prod_code</th>\n",
       "      <th>Unit_price</th>\n",
       "      <th>C1Prob</th>\n",
       "      <th>C2Prob</th>\n",
       "      <th>max</th>\n",
       "    </tr>\n",
       "  </thead>\n",
       "  <tbody>\n",
       "    <tr>\n",
       "      <th>0</th>\n",
       "      <td>v1</td>\n",
       "      <td>p1</td>\n",
       "      <td>182.0</td>\n",
       "      <td>1665.0</td>\n",
       "      <td>unkn</td>\n",
       "      <td>1.0</td>\n",
       "      <td>0.0</td>\n",
       "      <td>9.148352</td>\n",
       "      <td>0.051447</td>\n",
       "      <td>0.948553</td>\n",
       "      <td>0.948553</td>\n",
       "    </tr>\n",
       "    <tr>\n",
       "      <th>3</th>\n",
       "      <td>v4</td>\n",
       "      <td>p1</td>\n",
       "      <td>112.0</td>\n",
       "      <td>1100.0</td>\n",
       "      <td>unkn</td>\n",
       "      <td>1.0</td>\n",
       "      <td>0.0</td>\n",
       "      <td>9.821429</td>\n",
       "      <td>0.050338</td>\n",
       "      <td>0.949662</td>\n",
       "      <td>0.949662</td>\n",
       "    </tr>\n",
       "    <tr>\n",
       "      <th>5</th>\n",
       "      <td>v5</td>\n",
       "      <td>p2</td>\n",
       "      <td>104.0</td>\n",
       "      <td>1155.0</td>\n",
       "      <td>unkn</td>\n",
       "      <td>1.0</td>\n",
       "      <td>1095.0</td>\n",
       "      <td>11.105769</td>\n",
       "      <td>0.051208</td>\n",
       "      <td>0.948792</td>\n",
       "      <td>0.948792</td>\n",
       "    </tr>\n",
       "    <tr>\n",
       "      <th>6</th>\n",
       "      <td>v6</td>\n",
       "      <td>p2</td>\n",
       "      <td>350.0</td>\n",
       "      <td>5680.0</td>\n",
       "      <td>unkn</td>\n",
       "      <td>1.0</td>\n",
       "      <td>1095.0</td>\n",
       "      <td>16.228571</td>\n",
       "      <td>0.062153</td>\n",
       "      <td>0.937847</td>\n",
       "      <td>0.937847</td>\n",
       "    </tr>\n",
       "    <tr>\n",
       "      <th>7</th>\n",
       "      <td>v7</td>\n",
       "      <td>p2</td>\n",
       "      <td>200.0</td>\n",
       "      <td>4010.0</td>\n",
       "      <td>unkn</td>\n",
       "      <td>1.0</td>\n",
       "      <td>1095.0</td>\n",
       "      <td>20.050000</td>\n",
       "      <td>0.058101</td>\n",
       "      <td>0.941899</td>\n",
       "      <td>0.941899</td>\n",
       "    </tr>\n",
       "    <tr>\n",
       "      <th>...</th>\n",
       "      <td>...</td>\n",
       "      <td>...</td>\n",
       "      <td>...</td>\n",
       "      <td>...</td>\n",
       "      <td>...</td>\n",
       "      <td>...</td>\n",
       "      <td>...</td>\n",
       "      <td>...</td>\n",
       "      <td>...</td>\n",
       "      <td>...</td>\n",
       "      <td>...</td>\n",
       "    </tr>\n",
       "    <tr>\n",
       "      <th>401141</th>\n",
       "      <td>v5918</td>\n",
       "      <td>p4126</td>\n",
       "      <td>113.0</td>\n",
       "      <td>9330.0</td>\n",
       "      <td>unkn</td>\n",
       "      <td>1.0</td>\n",
       "      <td>3422.0</td>\n",
       "      <td>82.566372</td>\n",
       "      <td>0.076769</td>\n",
       "      <td>0.923231</td>\n",
       "      <td>0.923231</td>\n",
       "    </tr>\n",
       "    <tr>\n",
       "      <th>401142</th>\n",
       "      <td>v2540</td>\n",
       "      <td>p4126</td>\n",
       "      <td>118.0</td>\n",
       "      <td>3355.0</td>\n",
       "      <td>unkn</td>\n",
       "      <td>1.0</td>\n",
       "      <td>3422.0</td>\n",
       "      <td>28.432203</td>\n",
       "      <td>0.058370</td>\n",
       "      <td>0.941630</td>\n",
       "      <td>0.941630</td>\n",
       "    </tr>\n",
       "    <tr>\n",
       "      <th>401143</th>\n",
       "      <td>v5896</td>\n",
       "      <td>p4127</td>\n",
       "      <td>143.0</td>\n",
       "      <td>1835.0</td>\n",
       "      <td>unkn</td>\n",
       "      <td>1.0</td>\n",
       "      <td>3423.0</td>\n",
       "      <td>12.832168</td>\n",
       "      <td>0.054314</td>\n",
       "      <td>0.945686</td>\n",
       "      <td>0.945686</td>\n",
       "    </tr>\n",
       "    <tr>\n",
       "      <th>401144</th>\n",
       "      <td>v1796</td>\n",
       "      <td>p4127</td>\n",
       "      <td>102.0</td>\n",
       "      <td>1445.0</td>\n",
       "      <td>unkn</td>\n",
       "      <td>1.0</td>\n",
       "      <td>3423.0</td>\n",
       "      <td>14.166667</td>\n",
       "      <td>0.053481</td>\n",
       "      <td>0.946519</td>\n",
       "      <td>0.946519</td>\n",
       "    </tr>\n",
       "    <tr>\n",
       "      <th>401145</th>\n",
       "      <td>v2540</td>\n",
       "      <td>p4127</td>\n",
       "      <td>106.0</td>\n",
       "      <td>1275.0</td>\n",
       "      <td>unkn</td>\n",
       "      <td>1.0</td>\n",
       "      <td>3423.0</td>\n",
       "      <td>12.028302</td>\n",
       "      <td>0.053046</td>\n",
       "      <td>0.946954</td>\n",
       "      <td>0.946954</td>\n",
       "    </tr>\n",
       "  </tbody>\n",
       "</table>\n",
       "<p>297133 rows × 11 columns</p>\n",
       "</div>"
      ],
      "text/plain": [
       "           ID   Prod  Quant     Val  ... Unit_price    C1Prob    C2Prob       max\n",
       "0          v1     p1  182.0  1665.0  ...   9.148352  0.051447  0.948553  0.948553\n",
       "3          v4     p1  112.0  1100.0  ...   9.821429  0.050338  0.949662  0.949662\n",
       "5          v5     p2  104.0  1155.0  ...  11.105769  0.051208  0.948792  0.948792\n",
       "6          v6     p2  350.0  5680.0  ...  16.228571  0.062153  0.937847  0.937847\n",
       "7          v7     p2  200.0  4010.0  ...  20.050000  0.058101  0.941899  0.941899\n",
       "...       ...    ...    ...     ...  ...        ...       ...       ...       ...\n",
       "401141  v5918  p4126  113.0  9330.0  ...  82.566372  0.076769  0.923231  0.923231\n",
       "401142  v2540  p4126  118.0  3355.0  ...  28.432203  0.058370  0.941630  0.941630\n",
       "401143  v5896  p4127  143.0  1835.0  ...  12.832168  0.054314  0.945686  0.945686\n",
       "401144  v1796  p4127  102.0  1445.0  ...  14.166667  0.053481  0.946519  0.946519\n",
       "401145  v2540  p4127  106.0  1275.0  ...  12.028302  0.053046  0.946954  0.946954\n",
       "\n",
       "[297133 rows x 11 columns]"
      ]
     },
     "execution_count": 10,
     "metadata": {},
     "output_type": "execute_result"
    }
   ],
   "source": [
    "Unlabeled_data=result[result[\"Insp\"].values==\"unkn\"]\n",
    "X_unlabeled=Unlabeled_data[[\"Prod_code\",\"Quant\",\"Val\"]]\n",
    "\n",
    "clp= clf.predict_proba(X_unlabeled)\n",
    "pseudo_label=clf.predict(X_unlabeled)\n",
    "\n",
    "#Unlabeled_data = pd.DataFrame(clp, columns = ['C1Prob', 'C2Prob']) \n",
    "Unlabeled_data['C1Prob'] = clp.T[0]\n",
    "Unlabeled_data['C2Prob'] = clp.T[1] \n",
    "Unlabeled_data['Insp_code']=pseudo_label\n",
    "Unlabeled_data['max']=Unlabeled_data[[\"C1Prob\", \"C2Prob\"]].max(axis=1)\n",
    "Unlabeled_data"
   ]
  },
  {
   "cell_type": "code",
   "execution_count": 11,
   "id": "handed-original",
   "metadata": {
    "colab": {
     "base_uri": "https://localhost:8080/",
     "height": 421
    },
    "id": "handed-original",
    "outputId": "601ff61e-4967-4908-9ba0-15d7299b1568"
   },
   "outputs": [
    {
     "data": {
      "text/html": [
       "<div>\n",
       "<style scoped>\n",
       "    .dataframe tbody tr th:only-of-type {\n",
       "        vertical-align: middle;\n",
       "    }\n",
       "\n",
       "    .dataframe tbody tr th {\n",
       "        vertical-align: top;\n",
       "    }\n",
       "\n",
       "    .dataframe thead th {\n",
       "        text-align: right;\n",
       "    }\n",
       "</style>\n",
       "<table border=\"1\" class=\"dataframe\">\n",
       "  <thead>\n",
       "    <tr style=\"text-align: right;\">\n",
       "      <th></th>\n",
       "      <th>Prod_code</th>\n",
       "      <th>Quant</th>\n",
       "      <th>Val</th>\n",
       "      <th>Insp_code</th>\n",
       "    </tr>\n",
       "  </thead>\n",
       "  <tbody>\n",
       "    <tr>\n",
       "      <th>0</th>\n",
       "      <td>0.0</td>\n",
       "      <td>182.0</td>\n",
       "      <td>1665.0</td>\n",
       "      <td>1.0</td>\n",
       "    </tr>\n",
       "    <tr>\n",
       "      <th>3</th>\n",
       "      <td>0.0</td>\n",
       "      <td>112.0</td>\n",
       "      <td>1100.0</td>\n",
       "      <td>1.0</td>\n",
       "    </tr>\n",
       "    <tr>\n",
       "      <th>5</th>\n",
       "      <td>1095.0</td>\n",
       "      <td>104.0</td>\n",
       "      <td>1155.0</td>\n",
       "      <td>1.0</td>\n",
       "    </tr>\n",
       "    <tr>\n",
       "      <th>6</th>\n",
       "      <td>1095.0</td>\n",
       "      <td>350.0</td>\n",
       "      <td>5680.0</td>\n",
       "      <td>1.0</td>\n",
       "    </tr>\n",
       "    <tr>\n",
       "      <th>7</th>\n",
       "      <td>1095.0</td>\n",
       "      <td>200.0</td>\n",
       "      <td>4010.0</td>\n",
       "      <td>1.0</td>\n",
       "    </tr>\n",
       "    <tr>\n",
       "      <th>...</th>\n",
       "      <td>...</td>\n",
       "      <td>...</td>\n",
       "      <td>...</td>\n",
       "      <td>...</td>\n",
       "    </tr>\n",
       "    <tr>\n",
       "      <th>400767</th>\n",
       "      <td>3387.0</td>\n",
       "      <td>732.0</td>\n",
       "      <td>15110.0</td>\n",
       "      <td>1.0</td>\n",
       "    </tr>\n",
       "    <tr>\n",
       "      <th>400768</th>\n",
       "      <td>3387.0</td>\n",
       "      <td>201.0</td>\n",
       "      <td>13640.0</td>\n",
       "      <td>1.0</td>\n",
       "    </tr>\n",
       "    <tr>\n",
       "      <th>400789</th>\n",
       "      <td>3388.0</td>\n",
       "      <td>123.0</td>\n",
       "      <td>7560.0</td>\n",
       "      <td>0.0</td>\n",
       "    </tr>\n",
       "    <tr>\n",
       "      <th>400797</th>\n",
       "      <td>3388.0</td>\n",
       "      <td>907.0</td>\n",
       "      <td>17350.0</td>\n",
       "      <td>1.0</td>\n",
       "    </tr>\n",
       "    <tr>\n",
       "      <th>400814</th>\n",
       "      <td>3388.0</td>\n",
       "      <td>650.0</td>\n",
       "      <td>18290.0</td>\n",
       "      <td>1.0</td>\n",
       "    </tr>\n",
       "  </tbody>\n",
       "</table>\n",
       "<p>305077 rows × 4 columns</p>\n",
       "</div>"
      ],
      "text/plain": [
       "        Prod_code  Quant      Val  Insp_code\n",
       "0             0.0  182.0   1665.0        1.0\n",
       "3             0.0  112.0   1100.0        1.0\n",
       "5          1095.0  104.0   1155.0        1.0\n",
       "6          1095.0  350.0   5680.0        1.0\n",
       "7          1095.0  200.0   4010.0        1.0\n",
       "...           ...    ...      ...        ...\n",
       "400767     3387.0  732.0  15110.0        1.0\n",
       "400768     3387.0  201.0  13640.0        1.0\n",
       "400789     3388.0  123.0   7560.0        0.0\n",
       "400797     3388.0  907.0  17350.0        1.0\n",
       "400814     3388.0  650.0  18290.0        1.0\n",
       "\n",
       "[305077 rows x 4 columns]"
      ]
     },
     "execution_count": 11,
     "metadata": {},
     "output_type": "execute_result"
    }
   ],
   "source": [
    "frames = [Unlabeled_data[[\"Prod_code\",\"Quant\",\"Val\",\"Insp_code\"]], Labeled_data[[\"Prod_code\",\"Quant\",\"Val\",\"Insp_code\"]]]\n",
    "\n",
    "final_data = pd.concat(frames)\n",
    "final_data"
   ]
  },
  {
   "cell_type": "code",
   "execution_count": 12,
   "id": "ranking-collect",
   "metadata": {
    "colab": {
     "base_uri": "https://localhost:8080/"
    },
    "id": "ranking-collect",
    "outputId": "fc65e165-fd3c-44ec-c1dd-02701231f976"
   },
   "outputs": [
    {
     "data": {
      "text/plain": [
       "0.9984484943839868"
      ]
     },
     "execution_count": 12,
     "metadata": {},
     "output_type": "execute_result"
    }
   ],
   "source": [
    "X_train, X_test, y_train, y_test = train_test_split( final_data[[\"Prod_code\",\"Quant\",\"Val\"]],\n",
    "                                                    final_data[[\"Insp_code\"]], test_size=0.30, random_state=42)\n",
    "\n",
    "clf = svm.SVC(kernel='linear', probability=True,C=1).fit(X_train, y_train.values.ravel())\n",
    "\n",
    "clf.score(X_test, y_test)\n"
   ]
  },
  {
   "cell_type": "code",
   "execution_count": 12,
   "id": "lined-crack",
   "metadata": {
    "id": "lined-crack"
   },
   "outputs": [],
   "source": [
    "\n"
   ]
  }
 ],
 "metadata": {
  "colab": {
   "collapsed_sections": [],
   "name": "Project 1 python.ipynb",
   "provenance": []
  },
  "kernelspec": {
   "display_name": "Python 3",
   "language": "python",
   "name": "python3"
  },
  "language_info": {
   "codemirror_mode": {
    "name": "ipython",
    "version": 3
   },
   "file_extension": ".py",
   "mimetype": "text/x-python",
   "name": "python",
   "nbconvert_exporter": "python",
   "pygments_lexer": "ipython3",
   "version": "3.8.5"
  },
  "latex_envs": {
   "LaTeX_envs_menu_present": true,
   "autoclose": false,
   "autocomplete": true,
   "bibliofile": "biblio.bib",
   "cite_by": "apalike",
   "current_citInitial": 1,
   "eqLabelWithNumbers": true,
   "eqNumInitial": 1,
   "hotkeys": {
    "equation": "Ctrl-E",
    "itemize": "Ctrl-I"
   },
   "labels_anchors": false,
   "latex_user_defs": false,
   "report_style_numbering": false,
   "user_envs_cfg": false
  }
 },
 "nbformat": 4,
 "nbformat_minor": 5
}
